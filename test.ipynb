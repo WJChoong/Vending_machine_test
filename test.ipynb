{
  "nbformat": 4,
  "nbformat_minor": 0,
  "metadata": {
    "colab": {
      "provenance": []
    },
    "kernelspec": {
      "name": "python3",
      "display_name": "Python 3"
    },
    "language_info": {
      "name": "python"
    }
  },
  "cells": [
    {
      "cell_type": "code",
      "source": [
        "# You are tasked to code the vending machine logic out using Python Programming Language.\n",
        "# In your code, you can have a few drinks as your items with any price (no coin).\n",
        "# The customer should be able to insert any notes to buy his preferred drinks.\n",
        "# The outcome is to release the least amount of notes back to the customer."
      ],
      "metadata": {
        "id": "_WIYLOyCFPqA"
      },
      "execution_count": 9,
      "outputs": []
    },
    {
      "cell_type": "markdown",
      "source": [
        "## Variables"
      ],
      "metadata": {
        "id": "pd_vid3jNdIE"
      }
    },
    {
      "cell_type": "code",
      "execution_count": 10,
      "metadata": {
        "id": "KY5Em5rjBOVy"
      },
      "outputs": [],
      "source": [
        "# number of notes in vending machine\n",
        "note_dict = {\n",
        "    \"100\": 5,\n",
        "    \"50\": 10,\n",
        "    \"20\": 20,\n",
        "    \"10\": 20,\n",
        "    \"5\": 100,\n",
        "    \"1\": 200,\n",
        "}\n",
        "\n",
        "# list of drinks\n",
        "soft_drinks = {\n",
        "    1: \"Coke\",\n",
        "    2: \"Pepsi\",\n",
        "    3: \"Sprite\",\n",
        "    4: \"Mountain Dew\",\n",
        "    5: \"Dr. Pepper\",\n",
        "    6: \"Fanta\"\n",
        "}\n",
        "\n",
        "# price and quantity\n",
        "soft_drinks_price_quantity = {\n",
        "    \"Coke\": {\"quantity\": 2, \"price\": 1.00},\n",
        "    \"Pepsi\": {\"quantity\": 1, \"price\": 2.00},\n",
        "    \"Sprite\": {\"quantity\": 3, \"price\": 6.00},\n",
        "    \"Mountain Dew\": {\"quantity\": 2, \"price\": 15.00},\n",
        "    \"Dr. Pepper\": {\"quantity\": 1, \"price\": 14.00},\n",
        "    \"Fanta\": {\"quantity\": 3, \"price\": 1.00}\n",
        "}"
      ]
    },
    {
      "cell_type": "code",
      "source": [
        "menu = '''\n",
        "####################################\n",
        "              Welcome\n",
        "####################################\n",
        "Enter the numbers to select the drink:\n",
        "0. Exit'''"
      ],
      "metadata": {
        "id": "0vwLhME-Fjsc"
      },
      "execution_count": 11,
      "outputs": []
    },
    {
      "cell_type": "markdown",
      "source": [
        "## Menu"
      ],
      "metadata": {
        "id": "LxD7Ruk5NaS6"
      }
    },
    {
      "cell_type": "code",
      "source": [
        "def display_drinks():\n",
        "  for num, drink in soft_drinks.items():\n",
        "    if soft_drinks_price_quantity[drink][\"quantity\"] > 0:\n",
        "      print(f\"{num}. {drink} : RM{soft_drinks_price_quantity[drink]['price']}\")"
      ],
      "metadata": {
        "id": "K0eT9I0rM9yQ"
      },
      "execution_count": 12,
      "outputs": []
    },
    {
      "cell_type": "code",
      "source": [
        "def display_menu():\n",
        "  print(menu)\n",
        "  display_drinks()"
      ],
      "metadata": {
        "id": "QlF_RTrLF_OG"
      },
      "execution_count": 13,
      "outputs": []
    },
    {
      "cell_type": "markdown",
      "source": [
        "## Return cash"
      ],
      "metadata": {
        "id": "JDiBydaYNYOG"
      }
    },
    {
      "cell_type": "code",
      "source": [
        "def return_cash(amounts):\n",
        "  total_return = amounts\n",
        "  notes = {\n",
        "    100: 0,\n",
        "    50: 0,\n",
        "    20: 0,\n",
        "    10: 0,\n",
        "    5: 0,\n",
        "    1: 0,\n",
        "  }\n",
        "  while total_return != 0:\n",
        "    if total_return >= 100:\n",
        "      notes[100] += 1\n",
        "      total_return -= 100\n",
        "    elif total_return >= 50:\n",
        "      notes[50] += 1\n",
        "      total_return -= 50\n",
        "    elif total_return >= 20:\n",
        "      notes[20] += 1\n",
        "      total_return -= 20\n",
        "    elif total_return >= 10:\n",
        "      notes[10] += 1\n",
        "      total_return -= 10\n",
        "    elif total_return >= 5:\n",
        "      notes[5] += 1\n",
        "      total_return -= 5\n",
        "    elif total_return >= 1:\n",
        "      notes[1] += 1\n",
        "      total_return -= 1\n",
        "  for note, quant in notes.items():\n",
        "    print(f\"RM{note}: {quant}\")"
      ],
      "metadata": {
        "id": "d-fmebM5_aTS"
      },
      "execution_count": 14,
      "outputs": []
    },
    {
      "cell_type": "markdown",
      "source": [
        "## Payment"
      ],
      "metadata": {
        "id": "-fK8OtwHNSG-"
      }
    },
    {
      "cell_type": "code",
      "source": [
        "def insert_money(total):\n",
        "  total_inserted = 0\n",
        "  change = 0\n",
        "  status = True\n",
        "  received_note = {\n",
        "    100: 0,\n",
        "    50: 0,\n",
        "    20: 0,\n",
        "    10: 0,\n",
        "    5: 0,\n",
        "    1: 0,\n",
        "  }\n",
        "\n",
        "  print(\"Pleasse insert only notes. Enter 0 to cancel the process\")\n",
        "  while True:\n",
        "      if total_inserted >= total:\n",
        "        change = total_inserted - total\n",
        "        print(f\"Total received: RM{total_inserted}, Change: RM{change}\")\n",
        "        break\n",
        "      note = input(\"Insert note: \")\n",
        "      if not note.isdigit():\n",
        "        print(\"Invalid input\")\n",
        "        continue\n",
        "      note = int(note)\n",
        "      if note == 0:\n",
        "        change = total_inserted\n",
        "        status = False\n",
        "        break\n",
        "      elif (note == 100 or note == 50 or note == 20 or note == 10 or note == 5 or note == 1):\n",
        "        total_inserted = total_inserted + note\n",
        "        received_note[note] = received_note[note] + 1\n",
        "        print(f\"Total received: {total_inserted}\")\n",
        "      else:\n",
        "          print(\"Invalid note. Please insert a valid note.\")\n",
        "\n",
        "  return {\"status\": status, \"total_received\": total_inserted, \"received_note\": received_note, \"change\": change}"
      ],
      "metadata": {
        "id": "rgXPfuBwOjBy"
      },
      "execution_count": 15,
      "outputs": []
    },
    {
      "cell_type": "code",
      "source": [
        "while True:\n",
        "  drink = \"\"\n",
        "  price = 0\n",
        "  quantity = 0\n",
        "  display_menu()\n",
        "  selection = input(\"Please enter you selection: \")\n",
        "  if not selection.isdigit():\n",
        "    print(\"Invalid input! Please enter again\")\n",
        "    continue\n",
        "  selection = int(selection)\n",
        "  if selection == 0:\n",
        "    print(\"Program ends\")\n",
        "    break\n",
        "\n",
        "  drink = soft_drinks[selection]\n",
        "  price = soft_drinks_price_quantity[drink][\"price\"]\n",
        "  quantity = soft_drinks_price_quantity[drink][\"quantity\"]\n",
        "\n",
        "  if quantity == 0:\n",
        "    print(f\"Sorry, {drink} is out of stock. Please choose another one\")\n",
        "    continue\n",
        "\n",
        "  # Telling customer about the price of drinks\n",
        "  print(f\"Total will be: RM{price}. Redirecting to payment.\")\n",
        "\n",
        "  # payment\n",
        "  result = insert_money(price)\n",
        "\n",
        "  # print result\n",
        "  if not result[\"status\"]:\n",
        "    print(f\"Here is the money that inserted: RM{result['change']}\")\n",
        "    return_cash(result['change'])\n",
        "  else:\n",
        "    if result[\"change\"] > 0:\n",
        "      print(f\"Thank you for choosing us. Here is the change: RM{result['change']}. Please take the drink.\")\n",
        "      return_cash(result['change'])\n",
        "    else:\n",
        "      print(\"Thank you for choosing us. There is no change. Please take the drink\")\n",
        "    soft_drinks_price_quantity[drink][\"quantity\"] -= 1"
      ],
      "metadata": {
        "colab": {
          "base_uri": "https://localhost:8080/"
        },
        "id": "av8cdg0lFH1X",
        "outputId": "da84fb38-9204-4c93-e153-f66e22c4b71c"
      },
      "execution_count": 16,
      "outputs": [
        {
          "output_type": "stream",
          "name": "stdout",
          "text": [
            "\n",
            "####################################\n",
            "              Welcome\n",
            "####################################\n",
            "Enter the numbers to select the drink:\n",
            "0. Exit\n",
            "1. Coke : RM1.0\n",
            "2. Pepsi : RM2.0\n",
            "3. Sprite : RM6.0\n",
            "4. Mountain Dew : RM15.0\n",
            "5. Dr. Pepper : RM14.0\n",
            "6. Fanta : RM1.0\n",
            "Please enter you selection: 2\n",
            "Total will be: RM2.0. Redirecting to payment.\n",
            "Pleasse insert only notes. Enter 0 to cancel the process\n",
            "Insert note: 5\n",
            "Total received: 5\n",
            "Total received: RM5, Change: RM3.0\n",
            "Thank you for choosing us. Here is the change: RM3.0. Please take the drink.\n",
            "RM100: 0\n",
            "RM50: 0\n",
            "RM20: 0\n",
            "RM10: 0\n",
            "RM5: 0\n",
            "RM1: 3\n",
            "\n",
            "####################################\n",
            "              Welcome\n",
            "####################################\n",
            "Enter the numbers to select the drink:\n",
            "0. Exit\n",
            "1. Coke : RM1.0\n",
            "3. Sprite : RM6.0\n",
            "4. Mountain Dew : RM15.0\n",
            "5. Dr. Pepper : RM14.0\n",
            "6. Fanta : RM1.0\n",
            "Please enter you selection: 3\n",
            "Total will be: RM6.0. Redirecting to payment.\n",
            "Pleasse insert only notes. Enter 0 to cancel the process\n",
            "Insert note: 1\n",
            "Total received: 1\n",
            "Insert note: 1\n",
            "Total received: 2\n",
            "Insert note: 0\n",
            "Here is the money that inserted: RM2\n",
            "RM100: 0\n",
            "RM50: 0\n",
            "RM20: 0\n",
            "RM10: 0\n",
            "RM5: 0\n",
            "RM1: 2\n",
            "\n",
            "####################################\n",
            "              Welcome\n",
            "####################################\n",
            "Enter the numbers to select the drink:\n",
            "0. Exit\n",
            "1. Coke : RM1.0\n",
            "3. Sprite : RM6.0\n",
            "4. Mountain Dew : RM15.0\n",
            "5. Dr. Pepper : RM14.0\n",
            "6. Fanta : RM1.0\n",
            "Please enter you selection: 3\n",
            "Total will be: RM6.0. Redirecting to payment.\n",
            "Pleasse insert only notes. Enter 0 to cancel the process\n",
            "Insert note: 1\n",
            "Total received: 1\n",
            "Insert note: 1\n",
            "Total received: 2\n",
            "Insert note: 10\n",
            "Total received: 12\n",
            "Total received: RM12, Change: RM6.0\n",
            "Thank you for choosing us. Here is the change: RM6.0. Please take the drink.\n",
            "RM100: 0\n",
            "RM50: 0\n",
            "RM20: 0\n",
            "RM10: 0\n",
            "RM5: 1\n",
            "RM1: 1\n",
            "\n",
            "####################################\n",
            "              Welcome\n",
            "####################################\n",
            "Enter the numbers to select the drink:\n",
            "0. Exit\n",
            "1. Coke : RM1.0\n",
            "3. Sprite : RM6.0\n",
            "4. Mountain Dew : RM15.0\n",
            "5. Dr. Pepper : RM14.0\n",
            "6. Fanta : RM1.0\n",
            "Please enter you selection: 4\n",
            "Total will be: RM15.0. Redirecting to payment.\n",
            "Pleasse insert only notes. Enter 0 to cancel the process\n",
            "Insert note: 1\n",
            "Total received: 1\n",
            "Insert note: 1\n",
            "Total received: 2\n",
            "Insert note: 1\n",
            "Total received: 3\n",
            "Insert note: 1\n",
            "Total received: 4\n",
            "Insert note: 1\n",
            "Total received: 5\n",
            "Insert note: 0\n",
            "Here is the money that inserted: RM5\n",
            "RM100: 0\n",
            "RM50: 0\n",
            "RM20: 0\n",
            "RM10: 0\n",
            "RM5: 1\n",
            "RM1: 0\n",
            "\n",
            "####################################\n",
            "              Welcome\n",
            "####################################\n",
            "Enter the numbers to select the drink:\n",
            "0. Exit\n",
            "1. Coke : RM1.0\n",
            "3. Sprite : RM6.0\n",
            "4. Mountain Dew : RM15.0\n",
            "5. Dr. Pepper : RM14.0\n",
            "6. Fanta : RM1.0\n",
            "Please enter you selection: 0\n",
            "Program ends\n"
          ]
        }
      ]
    }
  ]
}